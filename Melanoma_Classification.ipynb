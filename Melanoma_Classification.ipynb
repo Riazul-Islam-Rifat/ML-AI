{
 "cells": [
  {
   "cell_type": "code",
   "execution_count": 66,
   "id": "88117e3c-b91d-48b1-95a0-ae432582a92e",
   "metadata": {},
   "outputs": [],
   "source": [
    "# Import necessary libraries\n",
    "import numpy as np\n",
    "import pandas as pd"
   ]
  },
  {
   "cell_type": "code",
   "execution_count": 67,
   "id": "f1bb12cb-3d71-4698-bbf7-457b8381ae0c",
   "metadata": {},
   "outputs": [
    {
     "name": "stdout",
     "output_type": "stream",
     "text": [
      "(33126, 12)\n"
     ]
    },
    {
     "data": {
      "text/html": [
       "<div>\n",
       "<style scoped>\n",
       "    .dataframe tbody tr th:only-of-type {\n",
       "        vertical-align: middle;\n",
       "    }\n",
       "\n",
       "    .dataframe tbody tr th {\n",
       "        vertical-align: top;\n",
       "    }\n",
       "\n",
       "    .dataframe thead th {\n",
       "        text-align: right;\n",
       "    }\n",
       "</style>\n",
       "<table border=\"1\" class=\"dataframe\">\n",
       "  <thead>\n",
       "    <tr style=\"text-align: right;\">\n",
       "      <th></th>\n",
       "      <th>image_name</th>\n",
       "      <th>patient_id</th>\n",
       "      <th>sex</th>\n",
       "      <th>age_approx</th>\n",
       "      <th>anatom_site_general_challenge</th>\n",
       "      <th>diagnosis</th>\n",
       "      <th>benign_malignant</th>\n",
       "      <th>target</th>\n",
       "      <th>tfrecord</th>\n",
       "      <th>width</th>\n",
       "      <th>height</th>\n",
       "      <th>patient_code</th>\n",
       "    </tr>\n",
       "  </thead>\n",
       "  <tbody>\n",
       "    <tr>\n",
       "      <th>0</th>\n",
       "      <td>ISIC_2637011</td>\n",
       "      <td>IP_7279968</td>\n",
       "      <td>male</td>\n",
       "      <td>45.0</td>\n",
       "      <td>head/neck</td>\n",
       "      <td>unknown</td>\n",
       "      <td>benign</td>\n",
       "      <td>0</td>\n",
       "      <td>0</td>\n",
       "      <td>6000</td>\n",
       "      <td>4000</td>\n",
       "      <td>0</td>\n",
       "    </tr>\n",
       "    <tr>\n",
       "      <th>1</th>\n",
       "      <td>ISIC_0015719</td>\n",
       "      <td>IP_3075186</td>\n",
       "      <td>female</td>\n",
       "      <td>45.0</td>\n",
       "      <td>upper extremity</td>\n",
       "      <td>unknown</td>\n",
       "      <td>benign</td>\n",
       "      <td>0</td>\n",
       "      <td>0</td>\n",
       "      <td>6000</td>\n",
       "      <td>4000</td>\n",
       "      <td>1</td>\n",
       "    </tr>\n",
       "    <tr>\n",
       "      <th>2</th>\n",
       "      <td>ISIC_0052212</td>\n",
       "      <td>IP_2842074</td>\n",
       "      <td>female</td>\n",
       "      <td>50.0</td>\n",
       "      <td>lower extremity</td>\n",
       "      <td>nevus</td>\n",
       "      <td>benign</td>\n",
       "      <td>0</td>\n",
       "      <td>6</td>\n",
       "      <td>1872</td>\n",
       "      <td>1053</td>\n",
       "      <td>2</td>\n",
       "    </tr>\n",
       "    <tr>\n",
       "      <th>3</th>\n",
       "      <td>ISIC_0068279</td>\n",
       "      <td>IP_6890425</td>\n",
       "      <td>female</td>\n",
       "      <td>45.0</td>\n",
       "      <td>head/neck</td>\n",
       "      <td>unknown</td>\n",
       "      <td>benign</td>\n",
       "      <td>0</td>\n",
       "      <td>0</td>\n",
       "      <td>1872</td>\n",
       "      <td>1053</td>\n",
       "      <td>3</td>\n",
       "    </tr>\n",
       "    <tr>\n",
       "      <th>4</th>\n",
       "      <td>ISIC_0074268</td>\n",
       "      <td>IP_8723313</td>\n",
       "      <td>female</td>\n",
       "      <td>55.0</td>\n",
       "      <td>upper extremity</td>\n",
       "      <td>unknown</td>\n",
       "      <td>benign</td>\n",
       "      <td>0</td>\n",
       "      <td>11</td>\n",
       "      <td>6000</td>\n",
       "      <td>4000</td>\n",
       "      <td>4</td>\n",
       "    </tr>\n",
       "  </tbody>\n",
       "</table>\n",
       "</div>"
      ],
      "text/plain": [
       "     image_name  patient_id     sex  age_approx anatom_site_general_challenge  \\\n",
       "0  ISIC_2637011  IP_7279968    male        45.0                     head/neck   \n",
       "1  ISIC_0015719  IP_3075186  female        45.0               upper extremity   \n",
       "2  ISIC_0052212  IP_2842074  female        50.0               lower extremity   \n",
       "3  ISIC_0068279  IP_6890425  female        45.0                     head/neck   \n",
       "4  ISIC_0074268  IP_8723313  female        55.0               upper extremity   \n",
       "\n",
       "  diagnosis benign_malignant  target  tfrecord  width  height  patient_code  \n",
       "0   unknown           benign       0         0   6000    4000             0  \n",
       "1   unknown           benign       0         0   6000    4000             1  \n",
       "2     nevus           benign       0         6   1872    1053             2  \n",
       "3   unknown           benign       0         0   1872    1053             3  \n",
       "4   unknown           benign       0        11   6000    4000             4  "
      ]
     },
     "execution_count": 67,
     "metadata": {},
     "output_type": "execute_result"
    }
   ],
   "source": [
    "# Load the data set\n",
    "train_data = pd.read_csv('C:/Users/USER\\Desktop/ML/Melanoma TFRecords 256x256.csv')\n",
    "print(train_data.shape)\n",
    "train_data.head()"
   ]
  },
  {
   "cell_type": "code",
   "execution_count": 74,
   "id": "60ebb71d-dc83-440e-a56a-80931f1ef8b3",
   "metadata": {},
   "outputs": [
    {
     "data": {
      "text/plain": [
       "2"
      ]
     },
     "execution_count": 74,
     "metadata": {},
     "output_type": "execute_result"
    }
   ],
   "source": [
    "len(train_data['target'].unique())"
   ]
  },
  {
   "cell_type": "code",
   "execution_count": 69,
   "id": "b5096833-4eb3-45e0-9b33-ca39b94d56ca",
   "metadata": {},
   "outputs": [
    {
     "data": {
      "text/plain": [
       "image_name                         0\n",
       "patient_id                         0\n",
       "sex                               65\n",
       "age_approx                        68\n",
       "anatom_site_general_challenge    527\n",
       "diagnosis                          0\n",
       "benign_malignant                   0\n",
       "target                             0\n",
       "tfrecord                           0\n",
       "width                              0\n",
       "height                             0\n",
       "patient_code                       0\n",
       "dtype: int64"
      ]
     },
     "execution_count": 69,
     "metadata": {},
     "output_type": "execute_result"
    }
   ],
   "source": [
    "# Handling missing values\n",
    "train_data.isnull().sum()"
   ]
  },
  {
   "cell_type": "code",
   "execution_count": 70,
   "id": "28306f4d-da7e-4c64-a788-45b3b2994da4",
   "metadata": {},
   "outputs": [
    {
     "name": "stdout",
     "output_type": "stream",
     "text": [
      "Shape before dropping rows --  (33126, 12)\n",
      "Shape after dropping rows --  (33058, 10)\n"
     ]
    }
   ],
   "source": [
    "# As there are some null values we will habdle those\n",
    "# Dropping rows \n",
    "print('Shape before dropping rows -- ', train_data.shape)\n",
    "train_data = train_data.dropna(axis=0, subset = [\"sex\",\"age_approx\"])\n",
    "# Dropping the patient_id column and image_name as it is not an important feature for the model to learn\n",
    "train_data = train_data.drop([\"image_name\",\"patient_id\"],axis=1)\n",
    "print('Shape after dropping rows -- ', train_data.shape)"
   ]
  },
  {
   "cell_type": "code",
   "execution_count": 72,
   "id": "812e0d58-a0a3-4074-9d9a-627f0f842026",
   "metadata": {},
   "outputs": [
    {
     "name": "stdout",
     "output_type": "stream",
     "text": [
      "<class 'pandas.core.frame.DataFrame'>\n",
      "Index: 33058 entries, 0 to 33125\n",
      "Data columns (total 10 columns):\n",
      " #   Column                         Non-Null Count  Dtype  \n",
      "---  ------                         --------------  -----  \n",
      " 0   sex                            33058 non-null  object \n",
      " 1   age_approx                     33058 non-null  float64\n",
      " 2   anatom_site_general_challenge  32531 non-null  object \n",
      " 3   diagnosis                      33058 non-null  object \n",
      " 4   benign_malignant               33058 non-null  object \n",
      " 5   target                         33058 non-null  int64  \n",
      " 6   tfrecord                       33058 non-null  int64  \n",
      " 7   width                          33058 non-null  int64  \n",
      " 8   height                         33058 non-null  int64  \n",
      " 9   patient_code                   33058 non-null  int64  \n",
      "dtypes: float64(1), int64(5), object(4)\n",
      "memory usage: 2.8+ MB\n"
     ]
    }
   ],
   "source": [
    "train_data.info()"
   ]
  },
  {
   "cell_type": "code",
   "execution_count": 73,
   "id": "266cd725-484d-4c3f-ae22-a4a39c0dce81",
   "metadata": {},
   "outputs": [
    {
     "data": {
      "text/plain": [
       "sex                              0\n",
       "age_approx                       0\n",
       "anatom_site_general_challenge    0\n",
       "diagnosis                        0\n",
       "benign_malignant                 0\n",
       "target                           0\n",
       "tfrecord                         0\n",
       "width                            0\n",
       "height                           0\n",
       "patient_code                     0\n",
       "dtype: int64"
      ]
     },
     "execution_count": 73,
     "metadata": {},
     "output_type": "execute_result"
    }
   ],
   "source": [
    "# Imputing missing values\n",
    "from sklearn.impute import SimpleImputer\n",
    "impute = SimpleImputer(missing_values=np.nan, strategy=\"most_frequent\")\n",
    "impute.fit(train_data[[\"anatom_site_general_challenge\"]])\n",
    "train_data[\"anatom_site_general_challenge\"] = impute.transform(train_data[[\"anatom_site_general_challenge\"]]).ravel() # Data is converted to 1D Array as it is a single column   \n",
    "\n",
    "train_data.isnull().sum()"
   ]
  },
  {
   "cell_type": "code",
   "execution_count": 78,
   "id": "ba6af21e-c8cf-438c-aec7-5a44bbbbb79a",
   "metadata": {},
   "outputs": [
    {
     "data": {
      "text/plain": [
       "(33058, 21)"
      ]
     },
     "execution_count": 78,
     "metadata": {},
     "output_type": "execute_result"
    }
   ],
   "source": [
    "# One hot encoding \n",
    "train_data = pd.get_dummies(train_data,drop_first=True)\n",
    "train_data.shape"
   ]
  },
  {
   "cell_type": "code",
   "execution_count": 79,
   "id": "32864614-e5b2-4c7a-aa2f-ad95c02fe3c7",
   "metadata": {},
   "outputs": [
    {
     "data": {
      "text/html": [
       "<div>\n",
       "<style scoped>\n",
       "    .dataframe tbody tr th:only-of-type {\n",
       "        vertical-align: middle;\n",
       "    }\n",
       "\n",
       "    .dataframe tbody tr th {\n",
       "        vertical-align: top;\n",
       "    }\n",
       "\n",
       "    .dataframe thead th {\n",
       "        text-align: right;\n",
       "    }\n",
       "</style>\n",
       "<table border=\"1\" class=\"dataframe\">\n",
       "  <thead>\n",
       "    <tr style=\"text-align: right;\">\n",
       "      <th></th>\n",
       "      <th>target</th>\n",
       "    </tr>\n",
       "  </thead>\n",
       "  <tbody>\n",
       "    <tr>\n",
       "      <th>0</th>\n",
       "      <td>0</td>\n",
       "    </tr>\n",
       "    <tr>\n",
       "      <th>1</th>\n",
       "      <td>0</td>\n",
       "    </tr>\n",
       "    <tr>\n",
       "      <th>2</th>\n",
       "      <td>0</td>\n",
       "    </tr>\n",
       "    <tr>\n",
       "      <th>3</th>\n",
       "      <td>0</td>\n",
       "    </tr>\n",
       "    <tr>\n",
       "      <th>4</th>\n",
       "      <td>0</td>\n",
       "    </tr>\n",
       "    <tr>\n",
       "      <th>...</th>\n",
       "      <td>...</td>\n",
       "    </tr>\n",
       "    <tr>\n",
       "      <th>33121</th>\n",
       "      <td>0</td>\n",
       "    </tr>\n",
       "    <tr>\n",
       "      <th>33122</th>\n",
       "      <td>0</td>\n",
       "    </tr>\n",
       "    <tr>\n",
       "      <th>33123</th>\n",
       "      <td>0</td>\n",
       "    </tr>\n",
       "    <tr>\n",
       "      <th>33124</th>\n",
       "      <td>0</td>\n",
       "    </tr>\n",
       "    <tr>\n",
       "      <th>33125</th>\n",
       "      <td>0</td>\n",
       "    </tr>\n",
       "  </tbody>\n",
       "</table>\n",
       "<p>33058 rows × 1 columns</p>\n",
       "</div>"
      ],
      "text/plain": [
       "       target\n",
       "0           0\n",
       "1           0\n",
       "2           0\n",
       "3           0\n",
       "4           0\n",
       "...       ...\n",
       "33121       0\n",
       "33122       0\n",
       "33123       0\n",
       "33124       0\n",
       "33125       0\n",
       "\n",
       "[33058 rows x 1 columns]"
      ]
     },
     "execution_count": 79,
     "metadata": {},
     "output_type": "execute_result"
    }
   ],
   "source": [
    "test_data = pd.DataFrame(train_data['target'])\n",
    "test_data"
   ]
  },
  {
   "cell_type": "code",
   "execution_count": 80,
   "id": "3e6d2750-9cd9-49a4-90d8-91a7ed77a0d0",
   "metadata": {},
   "outputs": [
    {
     "data": {
      "text/plain": [
       "(33058, 20)"
      ]
     },
     "execution_count": 80,
     "metadata": {},
     "output_type": "execute_result"
    }
   ],
   "source": [
    "train_data = train_data.drop(['target'], axis=1)\n",
    "train_data.shape"
   ]
  },
  {
   "cell_type": "code",
   "execution_count": 81,
   "id": "c8b9c2db-3cbc-4c20-b0a9-8c7c739fda49",
   "metadata": {},
   "outputs": [],
   "source": [
    "# Split the data for train and testing\n",
    "from sklearn.model_selection import train_test_split\n",
    "#Stratified data splitting\n",
    "X_train, X_test, y_train, y_test = train_test_split(train_data, test_data, test_size = 0.25, random_state=42, stratify = test_data)"
   ]
  },
  {
   "cell_type": "code",
   "execution_count": 90,
   "id": "be9dd69a-b49d-4803-91af-12ae2695c504",
   "metadata": {},
   "outputs": [
    {
     "name": "stdout",
     "output_type": "stream",
     "text": [
      "1.0\n"
     ]
    }
   ],
   "source": [
    "# Train the model\n",
    "# Using decision tree classifier\n",
    "from sklearn.metrics import accuracy_score\n",
    "from sklearn.tree import DecisionTreeClassifier  \n",
    "model_1 = DecisionTreeClassifier(criterion='entropy', random_state=0)  # criterion='entropy' is used to minimize the dataset's impurity\n",
    "model_1.fit(X_train, y_train)\n",
    "# Prediction\n",
    "y_pred = model_1.predict(X_test)\n",
    "\n",
    "accuracyModel_1 = accuracy_score(y_test, y_pred)\n",
    "print(accuracyModel_1)"
   ]
  },
  {
   "cell_type": "code",
   "execution_count": null,
   "id": "e6163494-92de-4954-a650-77ebabdd5945",
   "metadata": {},
   "outputs": [],
   "source": [
    "# Scale the data"
   ]
  },
  {
   "cell_type": "code",
   "execution_count": 92,
   "id": "0bd02cb3-1a6f-4c2e-8edd-1ff70af4ad59",
   "metadata": {},
   "outputs": [
    {
     "name": "stdout",
     "output_type": "stream",
     "text": [
      "1.0\n"
     ]
    },
    {
     "name": "stderr",
     "output_type": "stream",
     "text": [
      "D:\\Installation\\Anaconda\\Lib\\site-packages\\sklearn\\linear_model\\_logistic.py:458: ConvergenceWarning: lbfgs failed to converge (status=1):\n",
      "STOP: TOTAL NO. of ITERATIONS REACHED LIMIT.\n",
      "\n",
      "Increase the number of iterations (max_iter) or scale the data as shown in:\n",
      "    https://scikit-learn.org/stable/modules/preprocessing.html\n",
      "Please also refer to the documentation for alternative solver options:\n",
      "    https://scikit-learn.org/stable/modules/linear_model.html#logistic-regression\n",
      "  n_iter_i = _check_optimize_result(\n"
     ]
    }
   ],
   "source": [
    "# Using logistic regression\n",
    "from sklearn.linear_model import LogisticRegression\n",
    "model_2 = LogisticRegression(random_state=42)\n",
    "model_2.fit(X_train, y_train.values.ravel())\n",
    "\n",
    "y_pred_2 = model_2.predict(X_test)\n",
    "\n",
    "accuracyModel_2 = accuracy_score(y_test, y_pred_2)\n",
    "print(accuracyModel_2)\n",
    "\n",
    "# The warning occurs as data is not scaled "
   ]
  },
  {
   "cell_type": "code",
   "execution_count": 97,
   "id": "68091298-36e5-4511-8e6f-585919dc3752",
   "metadata": {},
   "outputs": [
    {
     "data": {
      "image/png": "[encoded data removed]",
      "text/plain": [
       "<Figure size 600x600 with 1 Axes>"
      ]
     },
     "metadata": {},
     "output_type": "display_data"
    }
   ],
   "source": [
    "# Plot the comparison\n",
    "import matplotlib.pyplot as plt\n",
    "# Names of the models\n",
    "models = ['Decision Tree', 'Logistic Regression']\n",
    "# Accuracy values\n",
    "accuracies = [accuracyModel_1, accuracyModel_2]\n",
    "\n",
    "# Create bar chart\n",
    "plt.figure(figsize=(6, 6))\n",
    "plt.bar(models, accuracies, color=['skyblue', 'lightgreen'])\n",
    "\n",
    "# Add title and labels\n",
    "# plt.title('Comparison of Model Accuracies')\n",
    "# plt.xlabel('Models')\n",
    "# plt.ylabel('Accuracy')\n",
    "\n",
    "plt.show()\n"
   ]
  },
  {
   "cell_type": "code",
   "execution_count": null,
   "id": "133a8263-4717-4102-8f54-f8fb9282265d",
   "metadata": {},
   "outputs": [],
   "source": []
  }
 ],
 "metadata": {
  "kernelspec": {
   "display_name": "Python 3 (ipykernel)",
   "language": "python",
   "name": "python3"
  },
  "language_info": {
   "codemirror_mode": {
    "name": "ipython",
    "version": 3
   },
   "file_extension": ".py",
   "mimetype": "text/x-python",
   "name": "python",
   "nbconvert_exporter": "python",
   "pygments_lexer": "ipython3",
   "version": "3.11.7"
  }
 },
 "nbformat": 4,
 "nbformat_minor": 5
}
