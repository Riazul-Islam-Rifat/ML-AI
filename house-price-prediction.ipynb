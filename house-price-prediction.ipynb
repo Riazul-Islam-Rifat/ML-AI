{
 "cells": [
  {
   "cell_type": "code",
   "execution_count": 1,
   "id": "cd82a55a",
   "metadata": {
    "_cell_guid": "b1076dfc-b9ad-4769-8c92-a6c4dae69d19",
    "_uuid": "8f2839f25d086af736a60e9eeb907d3b93b6e0e5",
    "execution": {
     "iopub.execute_input": "2024-08-13T19:10:57.912955Z",
     "iopub.status.busy": "2024-08-13T19:10:57.912503Z",
     "iopub.status.idle": "2024-08-13T19:10:58.957633Z",
     "shell.execute_reply": "2024-08-13T19:10:58.956253Z"
    },
    "papermill": {
     "duration": 1.055082,
     "end_time": "2024-08-13T19:10:58.960332",
     "exception": false,
     "start_time": "2024-08-13T19:10:57.905250",
     "status": "completed"
    },
    "tags": []
   },
   "outputs": [
    {
     "name": "stdout",
     "output_type": "stream",
     "text": [
      "/kaggle/input/house-prices-advanced-regression-techniques/sample_submission.csv\n",
      "/kaggle/input/house-prices-advanced-regression-techniques/data_description.txt\n",
      "/kaggle/input/house-prices-advanced-regression-techniques/train.csv\n",
      "/kaggle/input/house-prices-advanced-regression-techniques/test.csv\n"
     ]
    }
   ],
   "source": [
    "# This Python 3 environment comes with many helpful analytics libraries installed\n",
    "# It is defined by the kaggle/python Docker image: https://github.com/kaggle/docker-python\n",
    "# For example, here's several helpful packages to load\n",
    "\n",
    "import numpy as np # linear algebra\n",
    "import pandas as pd # data processing, CSV file I/O (e.g. pd.read_csv)\n",
    "\n",
    "# Input data files are available in the read-only \"../input/\" directory\n",
    "# For example, running this (by clicking run or pressing Shift+Enter) will list all files under the input directory\n",
    "\n",
    "import os\n",
    "for dirname, _, filenames in os.walk('/kaggle/input'):\n",
    "    for filename in filenames:\n",
    "        print(os.path.join(dirname, filename))\n",
    "\n",
    "# You can write up to 20GB to the current directory (/kaggle/working/) that gets preserved as output when you create a version using \"Save & Run All\" \n",
    "# You can also write temporary files to /kaggle/temp/, but they won't be saved outside of the current session"
   ]
  },
  {
   "cell_type": "code",
   "execution_count": 2,
   "id": "5c187996",
   "metadata": {
    "execution": {
     "iopub.execute_input": "2024-08-13T19:10:58.972417Z",
     "iopub.status.busy": "2024-08-13T19:10:58.971860Z",
     "iopub.status.idle": "2024-08-13T19:10:59.070482Z",
     "shell.execute_reply": "2024-08-13T19:10:59.069271Z"
    },
    "papermill": {
     "duration": 0.107606,
     "end_time": "2024-08-13T19:10:59.073222",
     "exception": false,
     "start_time": "2024-08-13T19:10:58.965616",
     "status": "completed"
    },
    "tags": []
   },
   "outputs": [
    {
     "data": {
      "text/html": [
       "<div>\n",
       "<style scoped>\n",
       "    .dataframe tbody tr th:only-of-type {\n",
       "        vertical-align: middle;\n",
       "    }\n",
       "\n",
       "    .dataframe tbody tr th {\n",
       "        vertical-align: top;\n",
       "    }\n",
       "\n",
       "    .dataframe thead th {\n",
       "        text-align: right;\n",
       "    }\n",
       "</style>\n",
       "<table border=\"1\" class=\"dataframe\">\n",
       "  <thead>\n",
       "    <tr style=\"text-align: right;\">\n",
       "      <th></th>\n",
       "      <th>MSSubClass</th>\n",
       "      <th>MSZoning</th>\n",
       "      <th>LotFrontage</th>\n",
       "      <th>LotArea</th>\n",
       "      <th>Street</th>\n",
       "      <th>Alley</th>\n",
       "      <th>LotShape</th>\n",
       "      <th>LandContour</th>\n",
       "      <th>Utilities</th>\n",
       "      <th>LotConfig</th>\n",
       "      <th>...</th>\n",
       "      <th>PoolArea</th>\n",
       "      <th>PoolQC</th>\n",
       "      <th>Fence</th>\n",
       "      <th>MiscFeature</th>\n",
       "      <th>MiscVal</th>\n",
       "      <th>MoSold</th>\n",
       "      <th>YrSold</th>\n",
       "      <th>SaleType</th>\n",
       "      <th>SaleCondition</th>\n",
       "      <th>SalePrice</th>\n",
       "    </tr>\n",
       "  </thead>\n",
       "  <tbody>\n",
       "    <tr>\n",
       "      <th>0</th>\n",
       "      <td>60</td>\n",
       "      <td>RL</td>\n",
       "      <td>65.0</td>\n",
       "      <td>8450</td>\n",
       "      <td>Pave</td>\n",
       "      <td>NaN</td>\n",
       "      <td>Reg</td>\n",
       "      <td>Lvl</td>\n",
       "      <td>AllPub</td>\n",
       "      <td>Inside</td>\n",
       "      <td>...</td>\n",
       "      <td>0</td>\n",
       "      <td>NaN</td>\n",
       "      <td>NaN</td>\n",
       "      <td>NaN</td>\n",
       "      <td>0</td>\n",
       "      <td>2</td>\n",
       "      <td>2008</td>\n",
       "      <td>WD</td>\n",
       "      <td>Normal</td>\n",
       "      <td>208500</td>\n",
       "    </tr>\n",
       "    <tr>\n",
       "      <th>1</th>\n",
       "      <td>20</td>\n",
       "      <td>RL</td>\n",
       "      <td>80.0</td>\n",
       "      <td>9600</td>\n",
       "      <td>Pave</td>\n",
       "      <td>NaN</td>\n",
       "      <td>Reg</td>\n",
       "      <td>Lvl</td>\n",
       "      <td>AllPub</td>\n",
       "      <td>FR2</td>\n",
       "      <td>...</td>\n",
       "      <td>0</td>\n",
       "      <td>NaN</td>\n",
       "      <td>NaN</td>\n",
       "      <td>NaN</td>\n",
       "      <td>0</td>\n",
       "      <td>5</td>\n",
       "      <td>2007</td>\n",
       "      <td>WD</td>\n",
       "      <td>Normal</td>\n",
       "      <td>181500</td>\n",
       "    </tr>\n",
       "    <tr>\n",
       "      <th>2</th>\n",
       "      <td>60</td>\n",
       "      <td>RL</td>\n",
       "      <td>68.0</td>\n",
       "      <td>11250</td>\n",
       "      <td>Pave</td>\n",
       "      <td>NaN</td>\n",
       "      <td>IR1</td>\n",
       "      <td>Lvl</td>\n",
       "      <td>AllPub</td>\n",
       "      <td>Inside</td>\n",
       "      <td>...</td>\n",
       "      <td>0</td>\n",
       "      <td>NaN</td>\n",
       "      <td>NaN</td>\n",
       "      <td>NaN</td>\n",
       "      <td>0</td>\n",
       "      <td>9</td>\n",
       "      <td>2008</td>\n",
       "      <td>WD</td>\n",
       "      <td>Normal</td>\n",
       "      <td>223500</td>\n",
       "    </tr>\n",
       "    <tr>\n",
       "      <th>3</th>\n",
       "      <td>70</td>\n",
       "      <td>RL</td>\n",
       "      <td>60.0</td>\n",
       "      <td>9550</td>\n",
       "      <td>Pave</td>\n",
       "      <td>NaN</td>\n",
       "      <td>IR1</td>\n",
       "      <td>Lvl</td>\n",
       "      <td>AllPub</td>\n",
       "      <td>Corner</td>\n",
       "      <td>...</td>\n",
       "      <td>0</td>\n",
       "      <td>NaN</td>\n",
       "      <td>NaN</td>\n",
       "      <td>NaN</td>\n",
       "      <td>0</td>\n",
       "      <td>2</td>\n",
       "      <td>2006</td>\n",
       "      <td>WD</td>\n",
       "      <td>Abnorml</td>\n",
       "      <td>140000</td>\n",
       "    </tr>\n",
       "    <tr>\n",
       "      <th>4</th>\n",
       "      <td>60</td>\n",
       "      <td>RL</td>\n",
       "      <td>84.0</td>\n",
       "      <td>14260</td>\n",
       "      <td>Pave</td>\n",
       "      <td>NaN</td>\n",
       "      <td>IR1</td>\n",
       "      <td>Lvl</td>\n",
       "      <td>AllPub</td>\n",
       "      <td>FR2</td>\n",
       "      <td>...</td>\n",
       "      <td>0</td>\n",
       "      <td>NaN</td>\n",
       "      <td>NaN</td>\n",
       "      <td>NaN</td>\n",
       "      <td>0</td>\n",
       "      <td>12</td>\n",
       "      <td>2008</td>\n",
       "      <td>WD</td>\n",
       "      <td>Normal</td>\n",
       "      <td>250000</td>\n",
       "    </tr>\n",
       "  </tbody>\n",
       "</table>\n",
       "<p>5 rows × 80 columns</p>\n",
       "</div>"
      ],
      "text/plain": [
       "   MSSubClass MSZoning  LotFrontage  LotArea Street Alley LotShape  \\\n",
       "0          60       RL         65.0     8450   Pave   NaN      Reg   \n",
       "1          20       RL         80.0     9600   Pave   NaN      Reg   \n",
       "2          60       RL         68.0    11250   Pave   NaN      IR1   \n",
       "3          70       RL         60.0     9550   Pave   NaN      IR1   \n",
       "4          60       RL         84.0    14260   Pave   NaN      IR1   \n",
       "\n",
       "  LandContour Utilities LotConfig  ... PoolArea PoolQC Fence MiscFeature  \\\n",
       "0         Lvl    AllPub    Inside  ...        0    NaN   NaN         NaN   \n",
       "1         Lvl    AllPub       FR2  ...        0    NaN   NaN         NaN   \n",
       "2         Lvl    AllPub    Inside  ...        0    NaN   NaN         NaN   \n",
       "3         Lvl    AllPub    Corner  ...        0    NaN   NaN         NaN   \n",
       "4         Lvl    AllPub       FR2  ...        0    NaN   NaN         NaN   \n",
       "\n",
       "  MiscVal MoSold  YrSold  SaleType  SaleCondition  SalePrice  \n",
       "0       0      2    2008        WD         Normal     208500  \n",
       "1       0      5    2007        WD         Normal     181500  \n",
       "2       0      9    2008        WD         Normal     223500  \n",
       "3       0      2    2006        WD        Abnorml     140000  \n",
       "4       0     12    2008        WD         Normal     250000  \n",
       "\n",
       "[5 rows x 80 columns]"
      ]
     },
     "execution_count": 2,
     "metadata": {},
     "output_type": "execute_result"
    }
   ],
   "source": [
    "# Load the train data\n",
    "trainData = pd.read_csv('/kaggle/input/house-prices-advanced-regression-techniques/train.csv')\n",
    "trainData = trainData.drop(['Id'],axis = 1) # Drop the ID column as it will not help in model training\n",
    "trainData.shape # to show number of (row,col)\n",
    "\n",
    "# To see sample data\n",
    "trainData.head(5)"
   ]
  },
  {
   "cell_type": "code",
   "execution_count": 3,
   "id": "77957cdb",
   "metadata": {
    "execution": {
     "iopub.execute_input": "2024-08-13T19:10:59.087831Z",
     "iopub.status.busy": "2024-08-13T19:10:59.087389Z",
     "iopub.status.idle": "2024-08-13T19:10:59.136113Z",
     "shell.execute_reply": "2024-08-13T19:10:59.135047Z"
    },
    "papermill": {
     "duration": 0.058525,
     "end_time": "2024-08-13T19:10:59.138585",
     "exception": false,
     "start_time": "2024-08-13T19:10:59.080060",
     "status": "completed"
    },
    "tags": []
   },
   "outputs": [
    {
     "data": {
      "text/plain": [
       "(1459, 80)"
      ]
     },
     "execution_count": 3,
     "metadata": {},
     "output_type": "execute_result"
    }
   ],
   "source": [
    "# Load the test data set\n",
    "testData = pd.read_csv('/kaggle/input/house-prices-advanced-regression-techniques/test.csv')\n",
    "testData.shape\n",
    "\n",
    "# testData.head(5)"
   ]
  },
  {
   "cell_type": "markdown",
   "id": "5d46cdfb",
   "metadata": {
    "papermill": {
     "duration": 0.005462,
     "end_time": "2024-08-13T19:10:59.150277",
     "exception": false,
     "start_time": "2024-08-13T19:10:59.144815",
     "status": "completed"
    },
    "tags": []
   },
   "source": [
    "**Removing null values/Handling missing**"
   ]
  },
  {
   "cell_type": "code",
   "execution_count": 4,
   "id": "de38ecbb",
   "metadata": {
    "execution": {
     "iopub.execute_input": "2024-08-13T19:10:59.164553Z",
     "iopub.status.busy": "2024-08-13T19:10:59.163376Z",
     "iopub.status.idle": "2024-08-13T19:10:59.180359Z",
     "shell.execute_reply": "2024-08-13T19:10:59.179052Z"
    },
    "papermill": {
     "duration": 0.027148,
     "end_time": "2024-08-13T19:10:59.183209",
     "exception": false,
     "start_time": "2024-08-13T19:10:59.156061",
     "status": "completed"
    },
    "tags": []
   },
   "outputs": [],
   "source": [
    "# Filter the columns\n",
    "nullColumns = trainData.columns[trainData.isnull().sum()>500]\n",
    "# print(nullColumns)\n",
    "# Drop the columns\n",
    "trainData = trainData.drop(nullColumns,axis=1)\n",
    "# trainData = trainData.drop(['1stFlrSF','2ndFlrSF','3SsnPorch'], axis=1)\n",
    "# trainData.shape"
   ]
  },
  {
   "cell_type": "code",
   "execution_count": 5,
   "id": "ffd3337c",
   "metadata": {
    "execution": {
     "iopub.execute_input": "2024-08-13T19:10:59.196306Z",
     "iopub.status.busy": "2024-08-13T19:10:59.195908Z",
     "iopub.status.idle": "2024-08-13T19:10:59.211294Z",
     "shell.execute_reply": "2024-08-13T19:10:59.210248Z"
    },
    "papermill": {
     "duration": 0.02499,
     "end_time": "2024-08-13T19:10:59.213920",
     "exception": false,
     "start_time": "2024-08-13T19:10:59.188930",
     "status": "completed"
    },
    "tags": []
   },
   "outputs": [],
   "source": [
    "# Filter the columns for test data\n",
    "nullColumnsTest = testData.columns[testData.isnull().sum()>500]\n",
    "# print(nullColumnsTest)\n",
    "# Drop the columns\n",
    "testData = testData.drop(nullColumnsTest,axis=1)\n",
    "# testData = testData.drop(['1stFlrSF','2ndFlrSF','3SsnPorch'], axis=1)\n",
    "# testData.shape"
   ]
  },
  {
   "cell_type": "code",
   "execution_count": 6,
   "id": "7b2113f9",
   "metadata": {
    "execution": {
     "iopub.execute_input": "2024-08-13T19:10:59.227700Z",
     "iopub.status.busy": "2024-08-13T19:10:59.226445Z",
     "iopub.status.idle": "2024-08-13T19:11:00.932690Z",
     "shell.execute_reply": "2024-08-13T19:11:00.931490Z"
    },
    "papermill": {
     "duration": 1.715908,
     "end_time": "2024-08-13T19:11:00.935415",
     "exception": false,
     "start_time": "2024-08-13T19:10:59.219507",
     "status": "completed"
    },
    "tags": []
   },
   "outputs": [],
   "source": [
    "# Imputing missing values\n",
    "from sklearn.impute import SimpleImputer\n",
    "\n",
    "filteredCol = trainData.columns[trainData.isnull().sum()<500]\n",
    "# print(len(filteredCol))\n",
    "# print(filteredCol)\n",
    "imputer = SimpleImputer(strategy='most_frequent')\n",
    "trainData[filteredCol] = imputer.fit_transform(trainData[filteredCol])\n",
    "\n",
    "# print(trainData.isnull().sum())\n",
    "\n",
    "# We could have separate categorical and numerical columns as well like as below-->\n",
    "# numeric_cols = trainData[filteredCol].select_dtypes(include=['number']).columns\n",
    "# categorical_cols = trainData[filteredCol].select_dtypes(exclude=['number']).columns"
   ]
  },
  {
   "cell_type": "code",
   "execution_count": 7,
   "id": "73c3abe8",
   "metadata": {
    "execution": {
     "iopub.execute_input": "2024-08-13T19:11:00.948798Z",
     "iopub.status.busy": "2024-08-13T19:11:00.948360Z",
     "iopub.status.idle": "2024-08-13T19:11:01.021399Z",
     "shell.execute_reply": "2024-08-13T19:11:01.020079Z"
    },
    "papermill": {
     "duration": 0.082891,
     "end_time": "2024-08-13T19:11:01.024216",
     "exception": false,
     "start_time": "2024-08-13T19:11:00.941325",
     "status": "completed"
    },
    "tags": []
   },
   "outputs": [],
   "source": [
    "# Imputing missing values for Test Data\n",
    "from sklearn.impute import SimpleImputer\n",
    "\n",
    "filteredColTest = testData.columns[testData.isnull().sum()<500]\n",
    "# print(len(filteredColTest))\n",
    "# print(filteredColTest)\n",
    "# print(filteredCol)\n",
    "imputer = SimpleImputer(strategy='most_frequent')\n",
    "testData[filteredColTest] = imputer.fit_transform(testData[filteredColTest])\n",
    "\n",
    "# print(trainData.isnull().sum())\n",
    "\n",
    "# We could have separate categorical and numerical columns as well like as below-->\n",
    "# numeric_cols = trainData[filteredCol].select_dtypes(include=['number']).columns\n",
    "# categorical_cols = trainData[filteredCol].select_dtypes(exclude=['number']).columns"
   ]
  },
  {
   "cell_type": "markdown",
   "id": "b887edf9",
   "metadata": {
    "papermill": {
     "duration": 0.005241,
     "end_time": "2024-08-13T19:11:01.035535",
     "exception": false,
     "start_time": "2024-08-13T19:11:01.030294",
     "status": "completed"
    },
    "tags": []
   },
   "source": [
    "**Organize train and test data**"
   ]
  },
  {
   "cell_type": "code",
   "execution_count": 8,
   "id": "afb1b573",
   "metadata": {
    "execution": {
     "iopub.execute_input": "2024-08-13T19:11:01.048725Z",
     "iopub.status.busy": "2024-08-13T19:11:01.048283Z",
     "iopub.status.idle": "2024-08-13T19:11:01.387313Z",
     "shell.execute_reply": "2024-08-13T19:11:01.386158Z"
    },
    "papermill": {
     "duration": 0.349081,
     "end_time": "2024-08-13T19:11:01.390169",
     "exception": false,
     "start_time": "2024-08-13T19:11:01.041088",
     "status": "completed"
    },
    "tags": []
   },
   "outputs": [
    {
     "name": "stdout",
     "output_type": "stream",
     "text": [
      "(1460, 2518)\n"
     ]
    },
    {
     "data": {
      "text/plain": [
       "(1459, 2518)"
      ]
     },
     "execution_count": 8,
     "metadata": {},
     "output_type": "execute_result"
    }
   ],
   "source": [
    "# We will convert categorical value to numeric value as we will be using Random Forest Regressor\n",
    "# Random Forest Regressor works with numeric values\n",
    "targetFeatures = trainData.drop(['SalePrice'],axis=1)\n",
    "x_train = pd.get_dummies(targetFeatures, drop_first=True)\n",
    "x_test = pd.get_dummies(testData, drop_first=True)\n",
    "\n",
    "x_train, x_test = x_train.align(x_test, join='inner', axis=1) # Ensures that train and test have same features\n",
    "\n",
    "\n",
    "print(x_train.shape)\n",
    "x_test.shape"
   ]
  },
  {
   "cell_type": "code",
   "execution_count": 9,
   "id": "b884d95a",
   "metadata": {
    "execution": {
     "iopub.execute_input": "2024-08-13T19:11:01.403811Z",
     "iopub.status.busy": "2024-08-13T19:11:01.403390Z",
     "iopub.status.idle": "2024-08-13T19:11:08.841051Z",
     "shell.execute_reply": "2024-08-13T19:11:08.839830Z"
    },
    "papermill": {
     "duration": 7.447686,
     "end_time": "2024-08-13T19:11:08.843866",
     "exception": false,
     "start_time": "2024-08-13T19:11:01.396180",
     "status": "completed"
    },
    "tags": []
   },
   "outputs": [],
   "source": [
    "from sklearn.ensemble import RandomForestRegressor\n",
    "\n",
    "y_train = trainData['SalePrice']\n",
    "\n",
    "model = RandomForestRegressor(n_estimators=100, max_depth=10, random_state=42)\n",
    "model.fit(x_train,y_train)\n",
    "\n",
    "predictions = model.predict(x_test)\n"
   ]
  },
  {
   "cell_type": "code",
   "execution_count": 10,
   "id": "911b1f62",
   "metadata": {
    "execution": {
     "iopub.execute_input": "2024-08-13T19:11:08.857099Z",
     "iopub.status.busy": "2024-08-13T19:11:08.856717Z",
     "iopub.status.idle": "2024-08-13T19:11:08.871061Z",
     "shell.execute_reply": "2024-08-13T19:11:08.869967Z"
    },
    "papermill": {
     "duration": 0.02369,
     "end_time": "2024-08-13T19:11:08.873512",
     "exception": false,
     "start_time": "2024-08-13T19:11:08.849822",
     "status": "completed"
    },
    "tags": []
   },
   "outputs": [
    {
     "name": "stdout",
     "output_type": "stream",
     "text": [
      "Your submission was successfully saved!\n"
     ]
    }
   ],
   "source": [
    "# Making the result\n",
    "output = pd.DataFrame({'Id': testData.Id, 'SalePrice': predictions})\n",
    "output.to_csv('submission.csv', index=False)\n",
    "print(\"Your submission was successfully saved!\")"
   ]
  }
 ],
 "metadata": {
  "kaggle": {
   "accelerator": "none",
   "dataSources": [
    {
     "databundleVersionId": 868283,
     "sourceId": 5407,
     "sourceType": "competition"
    }
   ],
   "dockerImageVersionId": 30746,
   "isGpuEnabled": false,
   "isInternetEnabled": true,
   "language": "python",
   "sourceType": "notebook"
  },
  "kernelspec": {
   "display_name": "Python 3",
   "language": "python",
   "name": "python3"
  },
  "language_info": {
   "codemirror_mode": {
    "name": "ipython",
    "version": 3
   },
   "file_extension": ".py",
   "mimetype": "text/x-python",
   "name": "python",
   "nbconvert_exporter": "python",
   "pygments_lexer": "ipython3",
   "version": "3.10.13"
  },
  "papermill": {
   "default_parameters": {},
   "duration": 14.78623,
   "end_time": "2024-08-13T19:11:09.501377",
   "environment_variables": {},
   "exception": null,
   "input_path": "__notebook__.ipynb",
   "output_path": "__notebook__.ipynb",
   "parameters": {},
   "start_time": "2024-08-13T19:10:54.715147",
   "version": "2.5.0"
  }
 },
 "nbformat": 4,
 "nbformat_minor": 5
}
